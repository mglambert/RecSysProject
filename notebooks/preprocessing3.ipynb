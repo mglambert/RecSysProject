{
 "cells": [
  {
   "cell_type": "code",
   "id": "initial_id",
   "metadata": {
    "collapsed": true,
    "ExecuteTime": {
     "end_time": "2025-07-01T21:04:48.876713Z",
     "start_time": "2025-07-01T21:04:48.874320Z"
    }
   },
   "source": [
    "import pandas as pd\n",
    "import random"
   ],
   "outputs": [],
   "execution_count": 23
  },
  {
   "metadata": {
    "ExecuteTime": {
     "end_time": "2025-07-01T19:20:13.888662Z",
     "start_time": "2025-07-01T19:20:12.986567Z"
    }
   },
   "cell_type": "code",
   "source": [
    "df_users = pd.read_csv('../data/df_users_train.csv')\n",
    "df_users.head()"
   ],
   "id": "80673dde3c9c1a09",
   "outputs": [
    {
     "data": {
      "text/plain": [
       "   Unnamed: 0   BGGId  Rating             Username  isTest\n",
       "0           0  121657     7.0       Marechallannes   False\n",
       "1           1  121657     7.0             crash331   False\n",
       "2           2  121657     7.0  houseofgamesfremont   False\n",
       "3           3  121657     7.0         randywilburn   False\n",
       "4           4  121657     7.0          Lord Kalbut   False"
      ],
      "text/html": [
       "<div>\n",
       "<style scoped>\n",
       "    .dataframe tbody tr th:only-of-type {\n",
       "        vertical-align: middle;\n",
       "    }\n",
       "\n",
       "    .dataframe tbody tr th {\n",
       "        vertical-align: top;\n",
       "    }\n",
       "\n",
       "    .dataframe thead th {\n",
       "        text-align: right;\n",
       "    }\n",
       "</style>\n",
       "<table border=\"1\" class=\"dataframe\">\n",
       "  <thead>\n",
       "    <tr style=\"text-align: right;\">\n",
       "      <th></th>\n",
       "      <th>Unnamed: 0</th>\n",
       "      <th>BGGId</th>\n",
       "      <th>Rating</th>\n",
       "      <th>Username</th>\n",
       "      <th>isTest</th>\n",
       "    </tr>\n",
       "  </thead>\n",
       "  <tbody>\n",
       "    <tr>\n",
       "      <th>0</th>\n",
       "      <td>0</td>\n",
       "      <td>121657</td>\n",
       "      <td>7.0</td>\n",
       "      <td>Marechallannes</td>\n",
       "      <td>False</td>\n",
       "    </tr>\n",
       "    <tr>\n",
       "      <th>1</th>\n",
       "      <td>1</td>\n",
       "      <td>121657</td>\n",
       "      <td>7.0</td>\n",
       "      <td>crash331</td>\n",
       "      <td>False</td>\n",
       "    </tr>\n",
       "    <tr>\n",
       "      <th>2</th>\n",
       "      <td>2</td>\n",
       "      <td>121657</td>\n",
       "      <td>7.0</td>\n",
       "      <td>houseofgamesfremont</td>\n",
       "      <td>False</td>\n",
       "    </tr>\n",
       "    <tr>\n",
       "      <th>3</th>\n",
       "      <td>3</td>\n",
       "      <td>121657</td>\n",
       "      <td>7.0</td>\n",
       "      <td>randywilburn</td>\n",
       "      <td>False</td>\n",
       "    </tr>\n",
       "    <tr>\n",
       "      <th>4</th>\n",
       "      <td>4</td>\n",
       "      <td>121657</td>\n",
       "      <td>7.0</td>\n",
       "      <td>Lord Kalbut</td>\n",
       "      <td>False</td>\n",
       "    </tr>\n",
       "  </tbody>\n",
       "</table>\n",
       "</div>"
      ]
     },
     "execution_count": 5,
     "metadata": {},
     "output_type": "execute_result"
    }
   ],
   "execution_count": 5
  },
  {
   "metadata": {},
   "cell_type": "markdown",
   "source": "# 1. Formar grupos",
   "id": "837e563202eab482"
  },
  {
   "metadata": {
    "ExecuteTime": {
     "end_time": "2025-07-01T21:07:41.615847Z",
     "start_time": "2025-07-01T21:07:41.390037Z"
    }
   },
   "cell_type": "code",
   "source": [
    "users = df_users.Username.unique()\n",
    "users[:2]"
   ],
   "id": "940d760dfa5365be",
   "outputs": [
    {
     "data": {
      "text/plain": [
       "array(['Marechallannes', 'crash331'], dtype=object)"
      ]
     },
     "execution_count": 39,
     "metadata": {},
     "output_type": "execute_result"
    }
   ],
   "execution_count": 39
  },
  {
   "metadata": {
    "ExecuteTime": {
     "end_time": "2025-07-01T21:07:42.061772Z",
     "start_time": "2025-07-01T21:07:42.058250Z"
    }
   },
   "cell_type": "code",
   "source": "len(users) / (2 + 3 + 4 + 5 + 6 + 7 + 8)",
   "id": "8162208d100f5225",
   "outputs": [
    {
     "data": {
      "text/plain": [
       "7461.228571428572"
      ]
     },
     "execution_count": 40,
     "metadata": {},
     "output_type": "execute_result"
    }
   ],
   "execution_count": 40
  },
  {
   "metadata": {
    "ExecuteTime": {
     "end_time": "2025-07-01T21:07:42.763276Z",
     "start_time": "2025-07-01T21:07:42.560221Z"
    }
   },
   "cell_type": "code",
   "source": [
    "users = list(users)\n",
    "for _ in range(2):\n",
    "    random.shuffle(users)\n",
    "\n",
    "def select_n(n=2):\n",
    "    global users\n",
    "    selected = []\n",
    "    while len(selected) < n:\n",
    "        usr = users.pop()\n",
    "        selected.append(usr)\n",
    "    return selected\n",
    "\n",
    "\n",
    "grupos = []\n",
    "for _ in range(7461):\n",
    "    for gz in range(2, 9):\n",
    "        grupos.append(select_n(gz))\n",
    "grupos.append(select_n(8))\n",
    "len(users)\n"
   ],
   "id": "b182261a7e8d966a",
   "outputs": [
    {
     "data": {
      "text/plain": [
       "0"
      ]
     },
     "execution_count": 41,
     "metadata": {},
     "output_type": "execute_result"
    }
   ],
   "execution_count": 41
  },
  {
   "metadata": {
    "ExecuteTime": {
     "end_time": "2025-07-01T21:10:59.027168Z",
     "start_time": "2025-07-01T21:10:59.016253Z"
    }
   },
   "cell_type": "code",
   "source": [
    "df_groups = pd.DataFrame({'members': grupos})\n",
    "df_groups.head()"
   ],
   "id": "e226bf9dd5dbae7e",
   "outputs": [
    {
     "data": {
      "text/plain": [
       "                                             members\n",
       "0                                [thorinbei, markbo]\n",
       "1                [Juanme11, clangroth, jorgedmegias]\n",
       "2     [The_Local_Gamer, hqbwk, grouik5962, Dominiek]\n",
       "3  [robogriff, Hyper3116, Jeko76, bhedwyre, mike_...\n",
       "4  [krz216, Taniapsico, lazatq15, mdebont, dmgall..."
      ],
      "text/html": [
       "<div>\n",
       "<style scoped>\n",
       "    .dataframe tbody tr th:only-of-type {\n",
       "        vertical-align: middle;\n",
       "    }\n",
       "\n",
       "    .dataframe tbody tr th {\n",
       "        vertical-align: top;\n",
       "    }\n",
       "\n",
       "    .dataframe thead th {\n",
       "        text-align: right;\n",
       "    }\n",
       "</style>\n",
       "<table border=\"1\" class=\"dataframe\">\n",
       "  <thead>\n",
       "    <tr style=\"text-align: right;\">\n",
       "      <th></th>\n",
       "      <th>members</th>\n",
       "    </tr>\n",
       "  </thead>\n",
       "  <tbody>\n",
       "    <tr>\n",
       "      <th>0</th>\n",
       "      <td>[thorinbei, markbo]</td>\n",
       "    </tr>\n",
       "    <tr>\n",
       "      <th>1</th>\n",
       "      <td>[Juanme11, clangroth, jorgedmegias]</td>\n",
       "    </tr>\n",
       "    <tr>\n",
       "      <th>2</th>\n",
       "      <td>[The_Local_Gamer, hqbwk, grouik5962, Dominiek]</td>\n",
       "    </tr>\n",
       "    <tr>\n",
       "      <th>3</th>\n",
       "      <td>[robogriff, Hyper3116, Jeko76, bhedwyre, mike_...</td>\n",
       "    </tr>\n",
       "    <tr>\n",
       "      <th>4</th>\n",
       "      <td>[krz216, Taniapsico, lazatq15, mdebont, dmgall...</td>\n",
       "    </tr>\n",
       "  </tbody>\n",
       "</table>\n",
       "</div>"
      ]
     },
     "execution_count": 50,
     "metadata": {},
     "output_type": "execute_result"
    }
   ],
   "execution_count": 50
  },
  {
   "metadata": {
    "ExecuteTime": {
     "end_time": "2025-07-01T21:10:59.873853Z",
     "start_time": "2025-07-01T21:10:59.785021Z"
    }
   },
   "cell_type": "code",
   "source": "df_groups.to_csv('../data/df_groups.csv', index=False)",
   "id": "656c79c9bde9ebe3",
   "outputs": [],
   "execution_count": 51
  },
  {
   "metadata": {
    "ExecuteTime": {
     "end_time": "2025-07-01T21:11:00.364805Z",
     "start_time": "2025-07-01T21:11:00.328304Z"
    }
   },
   "cell_type": "code",
   "source": "df_groups = pd.read_csv('../data/df_groups.csv')",
   "id": "5ed374b96ebfabb5",
   "outputs": [],
   "execution_count": 52
  },
  {
   "metadata": {
    "ExecuteTime": {
     "end_time": "2025-07-01T21:11:00.753432Z",
     "start_time": "2025-07-01T21:11:00.748203Z"
    }
   },
   "cell_type": "code",
   "source": "df_groups",
   "id": "826e378580bdb6dd",
   "outputs": [
    {
     "data": {
      "text/plain": [
       "                                                 members\n",
       "0                                ['thorinbei', 'markbo']\n",
       "1              ['Juanme11', 'clangroth', 'jorgedmegias']\n",
       "2      ['The_Local_Gamer', 'hqbwk', 'grouik5962', 'Do...\n",
       "3      ['robogriff', 'Hyper3116', 'Jeko76', 'bhedwyre...\n",
       "4      ['krz216', 'Taniapsico', 'lazatq15', 'mdebont'...\n",
       "...                                                  ...\n",
       "52223  ['Gdwyatt77', 'Nagz316', 'Salmmy', 'wrkeech', ...\n",
       "52224  ['lenahajo', 'BGAStephan', 'dkam136', 'MHBA200...\n",
       "52225  ['doodoo86', 'eaterofsuns', 'skunk21', 'Solben...\n",
       "52226  ['millenium_baby', 'K80_k', 'FootysAngle', 'TR...\n",
       "52227  ['Eberhart', 'Czexx', 'alexmitko', 'Ezzabella'...\n",
       "\n",
       "[52228 rows x 1 columns]"
      ],
      "text/html": [
       "<div>\n",
       "<style scoped>\n",
       "    .dataframe tbody tr th:only-of-type {\n",
       "        vertical-align: middle;\n",
       "    }\n",
       "\n",
       "    .dataframe tbody tr th {\n",
       "        vertical-align: top;\n",
       "    }\n",
       "\n",
       "    .dataframe thead th {\n",
       "        text-align: right;\n",
       "    }\n",
       "</style>\n",
       "<table border=\"1\" class=\"dataframe\">\n",
       "  <thead>\n",
       "    <tr style=\"text-align: right;\">\n",
       "      <th></th>\n",
       "      <th>members</th>\n",
       "    </tr>\n",
       "  </thead>\n",
       "  <tbody>\n",
       "    <tr>\n",
       "      <th>0</th>\n",
       "      <td>['thorinbei', 'markbo']</td>\n",
       "    </tr>\n",
       "    <tr>\n",
       "      <th>1</th>\n",
       "      <td>['Juanme11', 'clangroth', 'jorgedmegias']</td>\n",
       "    </tr>\n",
       "    <tr>\n",
       "      <th>2</th>\n",
       "      <td>['The_Local_Gamer', 'hqbwk', 'grouik5962', 'Do...</td>\n",
       "    </tr>\n",
       "    <tr>\n",
       "      <th>3</th>\n",
       "      <td>['robogriff', 'Hyper3116', 'Jeko76', 'bhedwyre...</td>\n",
       "    </tr>\n",
       "    <tr>\n",
       "      <th>4</th>\n",
       "      <td>['krz216', 'Taniapsico', 'lazatq15', 'mdebont'...</td>\n",
       "    </tr>\n",
       "    <tr>\n",
       "      <th>...</th>\n",
       "      <td>...</td>\n",
       "    </tr>\n",
       "    <tr>\n",
       "      <th>52223</th>\n",
       "      <td>['Gdwyatt77', 'Nagz316', 'Salmmy', 'wrkeech', ...</td>\n",
       "    </tr>\n",
       "    <tr>\n",
       "      <th>52224</th>\n",
       "      <td>['lenahajo', 'BGAStephan', 'dkam136', 'MHBA200...</td>\n",
       "    </tr>\n",
       "    <tr>\n",
       "      <th>52225</th>\n",
       "      <td>['doodoo86', 'eaterofsuns', 'skunk21', 'Solben...</td>\n",
       "    </tr>\n",
       "    <tr>\n",
       "      <th>52226</th>\n",
       "      <td>['millenium_baby', 'K80_k', 'FootysAngle', 'TR...</td>\n",
       "    </tr>\n",
       "    <tr>\n",
       "      <th>52227</th>\n",
       "      <td>['Eberhart', 'Czexx', 'alexmitko', 'Ezzabella'...</td>\n",
       "    </tr>\n",
       "  </tbody>\n",
       "</table>\n",
       "<p>52228 rows × 1 columns</p>\n",
       "</div>"
      ]
     },
     "execution_count": 53,
     "metadata": {},
     "output_type": "execute_result"
    }
   ],
   "execution_count": 53
  },
  {
   "metadata": {},
   "cell_type": "code",
   "outputs": [],
   "execution_count": null,
   "source": "",
   "id": "f960e845ee898faf"
  }
 ],
 "metadata": {
  "kernelspec": {
   "display_name": "Python 3",
   "language": "python",
   "name": "python3"
  },
  "language_info": {
   "codemirror_mode": {
    "name": "ipython",
    "version": 2
   },
   "file_extension": ".py",
   "mimetype": "text/x-python",
   "name": "python",
   "nbconvert_exporter": "python",
   "pygments_lexer": "ipython2",
   "version": "2.7.6"
  }
 },
 "nbformat": 4,
 "nbformat_minor": 5
}
