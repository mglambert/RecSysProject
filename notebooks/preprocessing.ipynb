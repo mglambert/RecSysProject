{
 "cells": [
  {
   "cell_type": "code",
   "id": "initial_id",
   "metadata": {
    "collapsed": true,
    "ExecuteTime": {
     "end_time": "2025-07-07T19:56:41.827956Z",
     "start_time": "2025-07-07T19:56:41.570043Z"
    }
   },
   "source": "import pandas as pd",
   "outputs": [],
   "execution_count": 1
  },
  {
   "metadata": {
    "ExecuteTime": {
     "end_time": "2025-07-07T19:56:45.680872Z",
     "start_time": "2025-07-07T19:56:42.646790Z"
    }
   },
   "cell_type": "code",
   "source": [
    "df_games = pd.read_csv('../data/games.csv')\n",
    "df_users = pd.read_csv('../data/user_ratings.csv')"
   ],
   "id": "af2c4b14cbb62070",
   "outputs": [],
   "execution_count": 2
  },
  {
   "metadata": {},
   "cell_type": "markdown",
   "source": "# 1. Filtrar juegos con MaxPlayers y MinPlayers menor a dos",
   "id": "30812eaf916e5d00"
  },
  {
   "metadata": {
    "ExecuteTime": {
     "end_time": "2025-07-07T19:56:47.494265Z",
     "start_time": "2025-07-07T19:56:47.486864Z"
    }
   },
   "cell_type": "code",
   "source": [
    "ans = df_games.shape[0]\n",
    "df_games = df_games[df_games.MaxPlayers >= 2]\n",
    "print(f'Diff {df_games.shape[0] - ans}')"
   ],
   "id": "629d7734c28d30be",
   "outputs": [
    {
     "name": "stdout",
     "output_type": "stream",
     "text": [
      "Diff -538\n"
     ]
    }
   ],
   "execution_count": 3
  },
  {
   "metadata": {
    "ExecuteTime": {
     "end_time": "2025-07-07T19:56:52.357426Z",
     "start_time": "2025-07-07T19:56:52.350224Z"
    }
   },
   "cell_type": "code",
   "source": [
    "ans = df_games.shape[0]\n",
    "df_games = df_games[df_games.MinPlayers >= 2]\n",
    "print(f'Diff {df_games.shape[0] - ans}')"
   ],
   "id": "24ee7d2e7d29549c",
   "outputs": [
    {
     "name": "stdout",
     "output_type": "stream",
     "text": [
      "Diff -3334\n"
     ]
    }
   ],
   "execution_count": 4
  },
  {
   "metadata": {},
   "cell_type": "markdown",
   "source": "# 2. Filtrar 50 juegos por ranking",
   "id": "fa148958205c9e00"
  },
  {
   "metadata": {
    "ExecuteTime": {
     "end_time": "2025-07-07T19:57:10.583491Z",
     "start_time": "2025-07-07T19:57:10.572619Z"
    }
   },
   "cell_type": "code",
   "source": [
    "ans = df_games.shape[0]\n",
    "df_games['mask'] = (df_games.loc[:,\n",
    "                    ['Rank:boardgame', 'Rank:strategygames', 'Rank:abstracts', 'Rank:familygames', 'Rank:thematic',\n",
    "                     'Rank:cgs',\n",
    "                     'Rank:wargames', 'Rank:partygames', 'Rank:childrensgames']] < 50).sum(axis=1) != 0\n",
    "df_games = df_games[df_games['mask']].copy()\n",
    "\n",
    "print(f'Diff {df_games.shape[0] - ans}')"
   ],
   "id": "189f95b42d7baebe",
   "outputs": [
    {
     "name": "stdout",
     "output_type": "stream",
     "text": [
      "Diff -17778\n"
     ]
    }
   ],
   "execution_count": 5
  },
  {
   "metadata": {
    "ExecuteTime": {
     "end_time": "2025-07-07T19:57:12.169943Z",
     "start_time": "2025-07-07T19:57:12.165727Z"
    }
   },
   "cell_type": "code",
   "source": "df_games.shape",
   "id": "93f2d27479b2792e",
   "outputs": [
    {
     "data": {
      "text/plain": [
       "(275, 49)"
      ]
     },
     "execution_count": 6,
     "metadata": {},
     "output_type": "execute_result"
    }
   ],
   "execution_count": 6
  },
  {
   "metadata": {
    "ExecuteTime": {
     "end_time": "2025-07-07T19:57:13.274308Z",
     "start_time": "2025-07-07T19:57:13.271363Z"
    }
   },
   "cell_type": "code",
   "source": "df_users.shape",
   "id": "ce4c695708a5e86e",
   "outputs": [
    {
     "data": {
      "text/plain": [
       "(18942215, 3)"
      ]
     },
     "execution_count": 7,
     "metadata": {},
     "output_type": "execute_result"
    }
   ],
   "execution_count": 7
  },
  {
   "metadata": {
    "ExecuteTime": {
     "end_time": "2025-07-07T19:57:15.095422Z",
     "start_time": "2025-07-07T19:57:14.874675Z"
    }
   },
   "cell_type": "code",
   "source": "df_users = df_users[df_users.BGGId.isin(df_games.BGGId)].copy()",
   "id": "6fd31baf96151ee9",
   "outputs": [],
   "execution_count": 8
  },
  {
   "metadata": {
    "ExecuteTime": {
     "end_time": "2025-07-07T19:57:16.034325Z",
     "start_time": "2025-07-07T19:57:16.031782Z"
    }
   },
   "cell_type": "code",
   "source": "df_users.shape",
   "id": "6053d61803af28c6",
   "outputs": [
    {
     "data": {
      "text/plain": [
       "(3200499, 3)"
      ]
     },
     "execution_count": 9,
     "metadata": {},
     "output_type": "execute_result"
    }
   ],
   "execution_count": 9
  },
  {
   "metadata": {
    "ExecuteTime": {
     "end_time": "2025-07-07T19:57:19.364759Z",
     "start_time": "2025-07-07T19:57:19.000052Z"
    }
   },
   "cell_type": "code",
   "source": "df_users.Username.value_counts()",
   "id": "9a1598aea0ccb9f",
   "outputs": [
    {
     "data": {
      "text/plain": [
       "Username\n",
       "leffe dubbel      245\n",
       "oldgoat3769967    223\n",
       "TomVasel          219\n",
       "Tolkana           210\n",
       "Doel              207\n",
       "                 ... \n",
       "Valancey            1\n",
       "Ryan 23             1\n",
       "Andrewruss          1\n",
       "gfsoul              1\n",
       "Kaine               1\n",
       "Name: count, Length: 289421, dtype: int64"
      ]
     },
     "execution_count": 10,
     "metadata": {},
     "output_type": "execute_result"
    }
   ],
   "execution_count": 10
  },
  {
   "metadata": {},
   "cell_type": "markdown",
   "source": "# 3. Filtrar usuarios con menos de 50 reseñas",
   "id": "efa24383c8686188"
  },
  {
   "metadata": {
    "ExecuteTime": {
     "end_time": "2025-07-07T19:57:45.475178Z",
     "start_time": "2025-07-07T19:57:44.975598Z"
    }
   },
   "cell_type": "code",
   "source": [
    "ans = df_users.shape[0]\n",
    "usert_count = df_users.Username.value_counts()\n",
    "usert_count = usert_count[usert_count > 50]\n",
    "df_users = df_users[df_users.Username.isin(usert_count.index)].copy()\n",
    "print(f'Diff {df_users.shape[0] - ans}, {df_users.shape[0]}, {ans}')"
   ],
   "id": "9aa704db4a02093f",
   "outputs": [
    {
     "name": "stdout",
     "output_type": "stream",
     "text": [
      "Diff -2636468, 564031, 3200499\n"
     ]
    }
   ],
   "execution_count": 11
  },
  {
   "metadata": {
    "ExecuteTime": {
     "end_time": "2025-07-07T19:57:48.296374Z",
     "start_time": "2025-07-07T19:57:48.256953Z"
    }
   },
   "cell_type": "code",
   "source": "df_users.Username.value_counts().min()",
   "id": "19579e20c0ff9646",
   "outputs": [
    {
     "data": {
      "text/plain": [
       "51"
      ]
     },
     "execution_count": 12,
     "metadata": {},
     "output_type": "execute_result"
    }
   ],
   "execution_count": 12
  },
  {
   "metadata": {
    "ExecuteTime": {
     "end_time": "2025-07-07T19:57:49.598953Z",
     "start_time": "2025-07-07T19:57:49.593594Z"
    }
   },
   "cell_type": "code",
   "source": [
    "unique_games = df_users.BGGId.unique()\n",
    "ans = df_games.shape[0]\n",
    "df_games = df_games[df_games.BGGId.isin(unique_games)]\n",
    "print(f'Diff {df_games.shape[0] - ans}, {df_games.shape[0]}, {ans}')\n"
   ],
   "id": "de2ea0f24481df62",
   "outputs": [
    {
     "name": "stdout",
     "output_type": "stream",
     "text": [
      "Diff 0, 275, 275\n"
     ]
    }
   ],
   "execution_count": 13
  },
  {
   "metadata": {},
   "cell_type": "markdown",
   "source": "# 5. Save",
   "id": "756c1edfc0930977"
  },
  {
   "metadata": {
    "ExecuteTime": {
     "end_time": "2025-07-07T19:57:55.502569Z",
     "start_time": "2025-07-07T19:57:55.198353Z"
    }
   },
   "cell_type": "code",
   "source": [
    "df_games.to_csv('../data/df_games_train2.csv', index=False)\n",
    "df_users.to_csv('../data/df_users_train2.csv', index=False)"
   ],
   "id": "fe1a9864cf1bec48",
   "outputs": [],
   "execution_count": 14
  },
  {
   "metadata": {},
   "cell_type": "code",
   "source": "",
   "id": "77485ba48d0aa8ee",
   "outputs": [],
   "execution_count": null
  }
 ],
 "metadata": {
  "kernelspec": {
   "display_name": "Python 3",
   "language": "python",
   "name": "python3"
  },
  "language_info": {
   "codemirror_mode": {
    "name": "ipython",
    "version": 2
   },
   "file_extension": ".py",
   "mimetype": "text/x-python",
   "name": "python",
   "nbconvert_exporter": "python",
   "pygments_lexer": "ipython2",
   "version": "2.7.6"
  }
 },
 "nbformat": 4,
 "nbformat_minor": 5
}
