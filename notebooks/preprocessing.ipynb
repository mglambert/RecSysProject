{
 "cells": [
  {
   "cell_type": "code",
   "id": "initial_id",
   "metadata": {
    "collapsed": true,
    "ExecuteTime": {
     "end_time": "2025-07-01T04:48:08.522942Z",
     "start_time": "2025-07-01T04:48:08.212131Z"
    }
   },
   "source": [
    "import numpy as np\n",
    "import pandas as pd\n",
    "import matplotlib.pyplot as plt"
   ],
   "outputs": [],
   "execution_count": 1
  },
  {
   "metadata": {
    "ExecuteTime": {
     "end_time": "2025-07-01T04:48:11.330950Z",
     "start_time": "2025-07-01T04:48:08.525798Z"
    }
   },
   "cell_type": "code",
   "source": [
    "df_games = pd.read_csv('../data/games.csv')\n",
    "df_users = pd.read_csv('../data/user_ratings.csv')"
   ],
   "id": "af2c4b14cbb62070",
   "outputs": [],
   "execution_count": 2
  },
  {
   "metadata": {},
   "cell_type": "markdown",
   "source": "# 1. Filtrar usuarios con menos de 5 reseñas",
   "id": "efa24383c8686188"
  },
  {
   "metadata": {
    "ExecuteTime": {
     "end_time": "2025-07-01T04:48:15.271856Z",
     "start_time": "2025-07-01T04:48:11.376583Z"
    }
   },
   "cell_type": "code",
   "source": [
    "ans = df_users.shape[0]\n",
    "usert_count = df_users.Username.value_counts()\n",
    "usert_count = usert_count[usert_count > 4]\n",
    "df_users = df_users[df_users.Username.isin(usert_count.index)].copy()\n",
    "print(f'Diff {df_users.shape[0] - ans}, {df_users.shape[0]}, {ans}')"
   ],
   "id": "9aa704db4a02093f",
   "outputs": [
    {
     "name": "stdout",
     "output_type": "stream",
     "text": [
      "Diff -245850, 18696365, 18942215\n"
     ]
    }
   ],
   "execution_count": 3
  },
  {
   "metadata": {},
   "cell_type": "markdown",
   "source": "# 2. Filtrar juegos con MaxPlayers y MinPlayers menor a dos",
   "id": "30812eaf916e5d00"
  },
  {
   "metadata": {
    "ExecuteTime": {
     "end_time": "2025-07-01T04:48:18.718001Z",
     "start_time": "2025-07-01T04:48:18.710008Z"
    }
   },
   "cell_type": "code",
   "source": [
    "ans = df_games.shape[0]\n",
    "df_games = df_games[df_games.MaxPlayers >= 2]\n",
    "print(f'Diff {df_games.shape[0] - ans}')"
   ],
   "id": "629d7734c28d30be",
   "outputs": [
    {
     "name": "stdout",
     "output_type": "stream",
     "text": [
      "Diff -538\n"
     ]
    }
   ],
   "execution_count": 4
  },
  {
   "metadata": {
    "ExecuteTime": {
     "end_time": "2025-07-01T04:48:19.175232Z",
     "start_time": "2025-07-01T04:48:19.168122Z"
    }
   },
   "cell_type": "code",
   "source": [
    "ans = df_games.shape[0]\n",
    "df_games = df_games[df_games.MinPlayers >= 2]\n",
    "print(f'Diff {df_games.shape[0] - ans}')"
   ],
   "id": "24ee7d2e7d29549c",
   "outputs": [
    {
     "name": "stdout",
     "output_type": "stream",
     "text": [
      "Diff -3334\n"
     ]
    }
   ],
   "execution_count": 5
  },
  {
   "metadata": {},
   "cell_type": "markdown",
   "source": "# 3. Filtrar 100 juegos por ranking",
   "id": "fa148958205c9e00"
  },
  {
   "metadata": {
    "ExecuteTime": {
     "end_time": "2025-07-01T04:48:20.810876Z",
     "start_time": "2025-07-01T04:48:20.799152Z"
    }
   },
   "cell_type": "code",
   "source": [
    "ans = df_games.shape[0]\n",
    "df_games['mask'] = (df_games.loc[:,\n",
    "                    ['Rank:boardgame', 'Rank:strategygames', 'Rank:abstracts', 'Rank:familygames', 'Rank:thematic',\n",
    "                     'Rank:cgs',\n",
    "                     'Rank:wargames', 'Rank:partygames', 'Rank:childrensgames']] < 100).sum(axis=1) != 0\n",
    "df_games = df_games[df_games['mask']].copy()\n",
    "print(f'Diff {df_games.shape[0] - ans}')"
   ],
   "id": "189f95b42d7baebe",
   "outputs": [
    {
     "name": "stdout",
     "output_type": "stream",
     "text": [
      "Diff -17475\n"
     ]
    }
   ],
   "execution_count": 6
  },
  {
   "metadata": {
    "ExecuteTime": {
     "end_time": "2025-07-01T04:48:21.580530Z",
     "start_time": "2025-07-01T04:48:21.575244Z"
    }
   },
   "cell_type": "code",
   "source": "df_games.shape",
   "id": "93f2d27479b2792e",
   "outputs": [
    {
     "data": {
      "text/plain": [
       "(578, 49)"
      ]
     },
     "execution_count": 7,
     "metadata": {},
     "output_type": "execute_result"
    }
   ],
   "execution_count": 7
  },
  {
   "metadata": {
    "ExecuteTime": {
     "end_time": "2025-07-01T04:48:22.157098Z",
     "start_time": "2025-07-01T04:48:22.153882Z"
    }
   },
   "cell_type": "code",
   "source": "df_users.shape",
   "id": "ce4c695708a5e86e",
   "outputs": [
    {
     "data": {
      "text/plain": [
       "(18696365, 3)"
      ]
     },
     "execution_count": 8,
     "metadata": {},
     "output_type": "execute_result"
    }
   ],
   "execution_count": 8
  },
  {
   "metadata": {
    "ExecuteTime": {
     "end_time": "2025-07-01T04:48:23.194456Z",
     "start_time": "2025-07-01T04:48:22.945973Z"
    }
   },
   "cell_type": "code",
   "source": "df_users = df_users[df_users.BGGId.isin(df_games.BGGId)].copy()",
   "id": "6fd31baf96151ee9",
   "outputs": [],
   "execution_count": 9
  },
  {
   "metadata": {
    "ExecuteTime": {
     "end_time": "2025-07-01T04:48:28.205791Z",
     "start_time": "2025-07-01T04:48:28.201758Z"
    }
   },
   "cell_type": "code",
   "source": "df_users.shape",
   "id": "6053d61803af28c6",
   "outputs": [
    {
     "data": {
      "text/plain": [
       "(5221879, 3)"
      ]
     },
     "execution_count": 10,
     "metadata": {},
     "output_type": "execute_result"
    }
   ],
   "execution_count": 10
  },
  {
   "metadata": {},
   "cell_type": "markdown",
   "source": "# 4. Separar entrenamiento y test",
   "id": "6c71d8287767b2a7"
  },
  {
   "metadata": {
    "ExecuteTime": {
     "end_time": "2025-07-01T05:27:15.471993Z",
     "start_time": "2025-07-01T05:27:12.014627Z"
    }
   },
   "cell_type": "code",
   "source": [
    "df_users.reset_index(inplace=True, drop=True)\n",
    "\n",
    "df_users['isTest'] = False\n",
    "idxs = df_users.groupby('Username').sample(n=1).index\n",
    "df_users.loc[idxs, 'isTest'] = True\n",
    "\n",
    "print(df_users.isTest.sum())"
   ],
   "id": "6fdcd27122060f37",
   "outputs": [
    {
     "name": "stdout",
     "output_type": "stream",
     "text": [
      "261143\n"
     ]
    }
   ],
   "execution_count": 16
  },
  {
   "metadata": {},
   "cell_type": "markdown",
   "source": "# 5. Save",
   "id": "756c1edfc0930977"
  },
  {
   "metadata": {
    "ExecuteTime": {
     "end_time": "2025-07-01T05:29:33.545184Z",
     "start_time": "2025-07-01T05:29:30.116875Z"
    }
   },
   "cell_type": "code",
   "source": [
    "df_games.to_csv('../data/df_games_train.csv')\n",
    "df_users.to_csv('../data/df_users_train.csv')"
   ],
   "id": "fe1a9864cf1bec48",
   "outputs": [],
   "execution_count": 17
  }
 ],
 "metadata": {
  "kernelspec": {
   "display_name": "Python 3",
   "language": "python",
   "name": "python3"
  },
  "language_info": {
   "codemirror_mode": {
    "name": "ipython",
    "version": 2
   },
   "file_extension": ".py",
   "mimetype": "text/x-python",
   "name": "python",
   "nbconvert_exporter": "python",
   "pygments_lexer": "ipython2",
   "version": "2.7.6"
  }
 },
 "nbformat": 4,
 "nbformat_minor": 5
}
