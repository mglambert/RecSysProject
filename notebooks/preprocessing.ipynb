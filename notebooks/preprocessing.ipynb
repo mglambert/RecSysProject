{
 "cells": [
  {
   "cell_type": "code",
   "id": "initial_id",
   "metadata": {
    "collapsed": true,
    "ExecuteTime": {
     "end_time": "2025-07-01T21:11:51.249910Z",
     "start_time": "2025-07-01T21:11:51.048460Z"
    }
   },
   "source": "import pandas as pd",
   "outputs": [],
   "execution_count": 1
  },
  {
   "metadata": {
    "ExecuteTime": {
     "end_time": "2025-07-01T21:11:54.060331Z",
     "start_time": "2025-07-01T21:11:51.305127Z"
    }
   },
   "cell_type": "code",
   "source": [
    "df_games = pd.read_csv('../data/games.csv')\n",
    "df_users = pd.read_csv('../data/user_ratings.csv')"
   ],
   "id": "af2c4b14cbb62070",
   "outputs": [],
   "execution_count": 2
  },
  {
   "metadata": {},
   "cell_type": "markdown",
   "source": "# 1. Filtrar usuarios con menos de 5 reseñas",
   "id": "efa24383c8686188"
  },
  {
   "metadata": {
    "ExecuteTime": {
     "end_time": "2025-07-01T21:11:58.708674Z",
     "start_time": "2025-07-01T21:11:55.369669Z"
    }
   },
   "cell_type": "code",
   "source": [
    "ans = df_users.shape[0]\n",
    "usert_count = df_users.Username.value_counts()\n",
    "usert_count = usert_count[usert_count > 4]\n",
    "df_users = df_users[df_users.Username.isin(usert_count.index)].copy()\n",
    "print(f'Diff {df_users.shape[0] - ans}, {df_users.shape[0]}, {ans}')"
   ],
   "id": "9aa704db4a02093f",
   "outputs": [
    {
     "name": "stdout",
     "output_type": "stream",
     "text": [
      "Diff -245850, 18696365, 18942215\n"
     ]
    }
   ],
   "execution_count": 3
  },
  {
   "metadata": {},
   "cell_type": "markdown",
   "source": "# 2. Filtrar juegos con MaxPlayers y MinPlayers menor a dos",
   "id": "30812eaf916e5d00"
  },
  {
   "metadata": {
    "ExecuteTime": {
     "end_time": "2025-07-01T21:11:59.883432Z",
     "start_time": "2025-07-01T21:11:59.875410Z"
    }
   },
   "cell_type": "code",
   "source": [
    "ans = df_games.shape[0]\n",
    "df_games = df_games[df_games.MaxPlayers >= 2]\n",
    "print(f'Diff {df_games.shape[0] - ans}')"
   ],
   "id": "629d7734c28d30be",
   "outputs": [
    {
     "name": "stdout",
     "output_type": "stream",
     "text": [
      "Diff -538\n"
     ]
    }
   ],
   "execution_count": 4
  },
  {
   "metadata": {
    "ExecuteTime": {
     "end_time": "2025-07-01T21:12:00.455642Z",
     "start_time": "2025-07-01T21:12:00.446885Z"
    }
   },
   "cell_type": "code",
   "source": [
    "ans = df_games.shape[0]\n",
    "df_games = df_games[df_games.MinPlayers >= 2]\n",
    "print(f'Diff {df_games.shape[0] - ans}')"
   ],
   "id": "24ee7d2e7d29549c",
   "outputs": [
    {
     "name": "stdout",
     "output_type": "stream",
     "text": [
      "Diff -3334\n"
     ]
    }
   ],
   "execution_count": 5
  },
  {
   "metadata": {},
   "cell_type": "markdown",
   "source": "# 3. Filtrar 100 juegos por ranking",
   "id": "fa148958205c9e00"
  },
  {
   "metadata": {
    "ExecuteTime": {
     "end_time": "2025-07-01T21:12:01.465687Z",
     "start_time": "2025-07-01T21:12:01.451302Z"
    }
   },
   "cell_type": "code",
   "source": [
    "ans = df_games.shape[0]\n",
    "df_games['mask'] = (df_games.loc[:,\n",
    "                    ['Rank:boardgame', 'Rank:strategygames', 'Rank:abstracts', 'Rank:familygames', 'Rank:thematic',\n",
    "                     'Rank:cgs',\n",
    "                     'Rank:wargames', 'Rank:partygames', 'Rank:childrensgames']] < 100).sum(axis=1) != 0\n",
    "df_games = df_games[df_games['mask']].copy()\n",
    "print(f'Diff {df_games.shape[0] - ans}')"
   ],
   "id": "189f95b42d7baebe",
   "outputs": [
    {
     "name": "stdout",
     "output_type": "stream",
     "text": [
      "Diff -17475\n"
     ]
    }
   ],
   "execution_count": 6
  },
  {
   "metadata": {
    "ExecuteTime": {
     "end_time": "2025-07-01T21:12:02.171594Z",
     "start_time": "2025-07-01T21:12:02.166232Z"
    }
   },
   "cell_type": "code",
   "source": "df_games.shape",
   "id": "93f2d27479b2792e",
   "outputs": [
    {
     "data": {
      "text/plain": [
       "(578, 49)"
      ]
     },
     "execution_count": 7,
     "metadata": {},
     "output_type": "execute_result"
    }
   ],
   "execution_count": 7
  },
  {
   "metadata": {
    "ExecuteTime": {
     "end_time": "2025-07-01T21:12:02.628023Z",
     "start_time": "2025-07-01T21:12:02.624680Z"
    }
   },
   "cell_type": "code",
   "source": "df_users.shape",
   "id": "ce4c695708a5e86e",
   "outputs": [
    {
     "data": {
      "text/plain": [
       "(18696365, 3)"
      ]
     },
     "execution_count": 8,
     "metadata": {},
     "output_type": "execute_result"
    }
   ],
   "execution_count": 8
  },
  {
   "metadata": {
    "ExecuteTime": {
     "end_time": "2025-07-01T21:12:03.308268Z",
     "start_time": "2025-07-01T21:12:03.067659Z"
    }
   },
   "cell_type": "code",
   "source": "df_users = df_users[df_users.BGGId.isin(df_games.BGGId)].copy()",
   "id": "6fd31baf96151ee9",
   "outputs": [],
   "execution_count": 9
  },
  {
   "metadata": {
    "ExecuteTime": {
     "end_time": "2025-07-01T21:12:03.507770Z",
     "start_time": "2025-07-01T21:12:03.504559Z"
    }
   },
   "cell_type": "code",
   "source": "df_users.shape",
   "id": "6053d61803af28c6",
   "outputs": [
    {
     "data": {
      "text/plain": [
       "(5221879, 3)"
      ]
     },
     "execution_count": 10,
     "metadata": {},
     "output_type": "execute_result"
    }
   ],
   "execution_count": 10
  },
  {
   "metadata": {},
   "cell_type": "markdown",
   "source": "# 4. Separar entrenamiento y test",
   "id": "6c71d8287767b2a7"
  },
  {
   "metadata": {
    "ExecuteTime": {
     "end_time": "2025-07-01T21:12:08.015093Z",
     "start_time": "2025-07-01T21:12:04.769713Z"
    }
   },
   "cell_type": "code",
   "source": [
    "df_users.reset_index(inplace=True, drop=True)\n",
    "\n",
    "df_users['isTest'] = False\n",
    "idxs = df_users.groupby('Username').sample(n=1).index\n",
    "df_users.loc[idxs, 'isTest'] = True\n",
    "\n",
    "print(df_users.isTest.sum())"
   ],
   "id": "6fdcd27122060f37",
   "outputs": [
    {
     "name": "stdout",
     "output_type": "stream",
     "text": [
      "261143\n"
     ]
    }
   ],
   "execution_count": 11
  },
  {
   "metadata": {},
   "cell_type": "markdown",
   "source": "# 5. Save",
   "id": "756c1edfc0930977"
  },
  {
   "metadata": {
    "ExecuteTime": {
     "end_time": "2025-07-01T21:12:17.167263Z",
     "start_time": "2025-07-01T21:12:14.340785Z"
    }
   },
   "cell_type": "code",
   "source": [
    "df_games.to_csv('../data/df_games_train.csv', index=False)\n",
    "df_users.to_csv('../data/df_users_train.csv', index=False)"
   ],
   "id": "fe1a9864cf1bec48",
   "outputs": [],
   "execution_count": 12
  },
  {
   "metadata": {},
   "cell_type": "code",
   "outputs": [],
   "execution_count": null,
   "source": "",
   "id": "77485ba48d0aa8ee"
  }
 ],
 "metadata": {
  "kernelspec": {
   "display_name": "Python 3",
   "language": "python",
   "name": "python3"
  },
  "language_info": {
   "codemirror_mode": {
    "name": "ipython",
    "version": 2
   },
   "file_extension": ".py",
   "mimetype": "text/x-python",
   "name": "python",
   "nbconvert_exporter": "python",
   "pygments_lexer": "ipython2",
   "version": "2.7.6"
  }
 },
 "nbformat": 4,
 "nbformat_minor": 5
}
