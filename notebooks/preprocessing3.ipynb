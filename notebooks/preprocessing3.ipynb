{
 "cells": [
  {
   "cell_type": "code",
   "id": "initial_id",
   "metadata": {
    "collapsed": true,
    "ExecuteTime": {
     "end_time": "2025-07-07T21:39:01.614142Z",
     "start_time": "2025-07-07T21:39:00.952512Z"
    }
   },
   "source": [
    "import pandas as pd\n",
    "import numpy as np\n",
    "from itertools import combinations\n",
    "from scipy.stats import kendalltau\n",
    "from tqdm import tqdm"
   ],
   "outputs": [],
   "execution_count": 2
  },
  {
   "metadata": {
    "ExecuteTime": {
     "end_time": "2025-07-07T20:00:51.363025Z",
     "start_time": "2025-07-07T20:00:51.288559Z"
    }
   },
   "cell_type": "code",
   "source": [
    "df_users = pd.read_csv('../data/df_users_train2.csv')\n",
    "df_users.head()"
   ],
   "id": "80673dde3c9c1a09",
   "outputs": [
    {
     "data": {
      "text/plain": [
       "   BGGId  Rating  Username\n",
       "0  35865    10.0  zebracat\n",
       "1  35865     9.0   Pfahrer\n",
       "2  35865     9.0  gregorus\n",
       "3  35865     9.0   tryytty\n",
       "4  35865     9.0   Tolkana"
      ],
      "text/html": [
       "<div>\n",
       "<style scoped>\n",
       "    .dataframe tbody tr th:only-of-type {\n",
       "        vertical-align: middle;\n",
       "    }\n",
       "\n",
       "    .dataframe tbody tr th {\n",
       "        vertical-align: top;\n",
       "    }\n",
       "\n",
       "    .dataframe thead th {\n",
       "        text-align: right;\n",
       "    }\n",
       "</style>\n",
       "<table border=\"1\" class=\"dataframe\">\n",
       "  <thead>\n",
       "    <tr style=\"text-align: right;\">\n",
       "      <th></th>\n",
       "      <th>BGGId</th>\n",
       "      <th>Rating</th>\n",
       "      <th>Username</th>\n",
       "    </tr>\n",
       "  </thead>\n",
       "  <tbody>\n",
       "    <tr>\n",
       "      <th>0</th>\n",
       "      <td>35865</td>\n",
       "      <td>10.0</td>\n",
       "      <td>zebracat</td>\n",
       "    </tr>\n",
       "    <tr>\n",
       "      <th>1</th>\n",
       "      <td>35865</td>\n",
       "      <td>9.0</td>\n",
       "      <td>Pfahrer</td>\n",
       "    </tr>\n",
       "    <tr>\n",
       "      <th>2</th>\n",
       "      <td>35865</td>\n",
       "      <td>9.0</td>\n",
       "      <td>gregorus</td>\n",
       "    </tr>\n",
       "    <tr>\n",
       "      <th>3</th>\n",
       "      <td>35865</td>\n",
       "      <td>9.0</td>\n",
       "      <td>tryytty</td>\n",
       "    </tr>\n",
       "    <tr>\n",
       "      <th>4</th>\n",
       "      <td>35865</td>\n",
       "      <td>9.0</td>\n",
       "      <td>Tolkana</td>\n",
       "    </tr>\n",
       "  </tbody>\n",
       "</table>\n",
       "</div>"
      ]
     },
     "execution_count": 2,
     "metadata": {},
     "output_type": "execute_result"
    }
   ],
   "execution_count": 2
  },
  {
   "metadata": {},
   "cell_type": "markdown",
   "source": "# 1. Formar grupos",
   "id": "837e563202eab482"
  },
  {
   "metadata": {},
   "cell_type": "markdown",
   "source": "## 1.1 Verificar que todos los usuarios del test tengan al menos 3 juegos con nota mayor a 5",
   "id": "39a4af6069bcc958"
  },
  {
   "metadata": {
    "ExecuteTime": {
     "end_time": "2025-07-07T20:01:33.147969Z",
     "start_time": "2025-07-07T20:01:33.097837Z"
    }
   },
   "cell_type": "code",
   "source": [
    "valid_games_count = df_users[(df_users['Rating'] > 5)].groupby('Username').size()\n",
    "\n",
    "valid_users = valid_games_count[valid_games_count >= 3].index.tolist()\n",
    "valid_users.__len__(), df_users.Username.unique().size"
   ],
   "id": "971289dd304c6bf9",
   "outputs": [
    {
     "data": {
      "text/plain": [
       "(8231, 8231)"
      ]
     },
     "execution_count": 5,
     "metadata": {},
     "output_type": "execute_result"
    }
   ],
   "execution_count": 5
  },
  {
   "metadata": {},
   "cell_type": "markdown",
   "source": "## 1.2 Agrupar",
   "id": "3861883a627c217c"
  },
  {
   "metadata": {
    "ExecuteTime": {
     "end_time": "2025-07-07T20:48:39.946429Z",
     "start_time": "2025-07-07T20:48:39.941740Z"
    }
   },
   "cell_type": "code",
   "source": [
    "def random_similar_groups(\n",
    "        data: pd.DataFrame,\n",
    "        l_groups: int,\n",
    "        s_min: int = 2,\n",
    "        s_max: int = 10,\n",
    "        tau_sim: float = 0.5\n",
    ") -> list[list[str]]:\n",
    "    user_item_matrix = data.pivot_table(index='Username', columns='BGGId', values='Rating')\n",
    "    users = user_item_matrix.index.tolist()\n",
    "\n",
    "    groups = []\n",
    "\n",
    "    with tqdm(total=l_groups, desc=\"Grouping\") as pbar:\n",
    "        while len(groups) < l_groups:\n",
    "            group_size = np.random.randint(s_min, s_max + 1)\n",
    "\n",
    "            selected_users = []\n",
    "            attempts = 0\n",
    "            max_attempts = 1000\n",
    "\n",
    "            while len(selected_users) < group_size and attempts < max_attempts:\n",
    "                candidate_user = np.random.choice(users)\n",
    "\n",
    "                if candidate_user not in selected_users:\n",
    "                    temp_group = selected_users + [candidate_user]\n",
    "\n",
    "                    is_similar = True\n",
    "                    if len(temp_group) > 1:\n",
    "                        for u1, u2 in combinations(temp_group, 2):\n",
    "                            ratings_u1 = user_item_matrix.loc[u1].dropna()\n",
    "                            ratings_u2 = user_item_matrix.loc[u2].dropna()\n",
    "\n",
    "                            common_items = list(set(ratings_u1.index) & set(ratings_u2.index))\n",
    "\n",
    "                            if len(common_items) < 2:\n",
    "                                is_similar = False\n",
    "                                break\n",
    "\n",
    "                            tau, _ = kendalltau(ratings_u1[common_items], ratings_u2[common_items])\n",
    "                            if tau < tau_sim:\n",
    "                                is_similar = False\n",
    "                                break\n",
    "\n",
    "                    if is_similar:\n",
    "                        selected_users.append(candidate_user)\n",
    "                attempts += 1\n",
    "\n",
    "            if len(selected_users) == group_size:\n",
    "                groups.append(selected_users)\n",
    "                pbar.update(1)\n",
    "\n",
    "    return groups"
   ],
   "id": "638c58827cff18fc",
   "outputs": [],
   "execution_count": 29
  },
  {
   "metadata": {
    "ExecuteTime": {
     "end_time": "2025-07-07T21:04:13.484609Z",
     "start_time": "2025-07-07T20:57:11.249673Z"
    }
   },
   "cell_type": "code",
   "source": "groups = random_similar_groups(df_users, 249)",
   "id": "20edec5e1105e1cc",
   "outputs": [
    {
     "name": "stderr",
     "output_type": "stream",
     "text": [
      "Grouping: 100%|██████████| 250/250 [07:02<00:00,  1.69s/it]\n"
     ]
    }
   ],
   "execution_count": 31
  },
  {
   "metadata": {
    "ExecuteTime": {
     "end_time": "2025-07-07T21:18:40.107419Z",
     "start_time": "2025-07-07T21:18:40.104018Z"
    }
   },
   "cell_type": "code",
   "source": "len(groups)",
   "id": "f34062fdaa44cf15",
   "outputs": [
    {
     "data": {
      "text/plain": [
       "249"
      ]
     },
     "execution_count": 54,
     "metadata": {},
     "output_type": "execute_result"
    }
   ],
   "execution_count": 54
  },
  {
   "metadata": {},
   "cell_type": "markdown",
   "source": "# 2. Separar entrenamiento y test",
   "id": "cd6de308b437acc5"
  },
  {
   "metadata": {
    "ExecuteTime": {
     "end_time": "2025-07-07T21:18:41.280248Z",
     "start_time": "2025-07-07T21:18:41.277700Z"
    }
   },
   "cell_type": "code",
   "source": [
    "users_in_groups = []\n",
    "for g in groups:\n",
    "    users_in_groups.extend(g)\n",
    "users_in_groups = set(users_in_groups)\n",
    "len(users_in_groups)"
   ],
   "id": "fc6c107247e75a55",
   "outputs": [
    {
     "data": {
      "text/plain": [
       "467"
      ]
     },
     "execution_count": 55,
     "metadata": {},
     "output_type": "execute_result"
    }
   ],
   "execution_count": 55
  },
  {
   "metadata": {
    "ExecuteTime": {
     "end_time": "2025-07-07T21:18:43.633788Z",
     "start_time": "2025-07-07T21:18:43.608260Z"
    }
   },
   "cell_type": "code",
   "source": "df_users.Username.unique().size",
   "id": "bd084e1baa5956a0",
   "outputs": [
    {
     "data": {
      "text/plain": [
       "8231"
      ]
     },
     "execution_count": 56,
     "metadata": {},
     "output_type": "execute_result"
    }
   ],
   "execution_count": 56
  },
  {
   "metadata": {
    "ExecuteTime": {
     "end_time": "2025-07-07T21:18:45.420751Z",
     "start_time": "2025-07-07T21:18:45.415634Z"
    }
   },
   "cell_type": "code",
   "source": [
    "def assign_test_items_group_wise(df_users: pd.DataFrame, groups: list[list[str]]) -> pd.DataFrame:\n",
    "    df_users['isTest'] = False\n",
    "\n",
    "    with tqdm(total=len(groups), desc=\"Grouping\") as pbar:\n",
    "        for group in groups:\n",
    "            if not group:\n",
    "                continue\n",
    "\n",
    "            group_ratings = df_users[df_users['Username'].isin(group)]\n",
    "\n",
    "            item_user_counts = group_ratings.groupby('BGGId')['Username'].nunique()\n",
    "\n",
    "            common_items_in_group = item_user_counts[item_user_counts == len(group)].index.tolist()\n",
    "\n",
    "            if common_items_in_group:\n",
    "                pbar.update(1)\n",
    "                for user in group:\n",
    "                    df_users.loc[\n",
    "                        (df_users['Username'] == user) &\n",
    "                        (df_users['BGGId'].isin(common_items_in_group)),\n",
    "                        'isTest'\n",
    "                    ] = True\n",
    "            else:\n",
    "                print(group)\n"
   ],
   "id": "9cec7b253285a07a",
   "outputs": [],
   "execution_count": 57
  },
  {
   "metadata": {
    "ExecuteTime": {
     "end_time": "2025-07-07T21:18:58.786403Z",
     "start_time": "2025-07-07T21:18:48.814180Z"
    }
   },
   "cell_type": "code",
   "source": "assign_test_items_group_wise(df_users, groups)",
   "id": "d6f1228fa3ce7700",
   "outputs": [
    {
     "name": "stderr",
     "output_type": "stream",
     "text": [
      "Grouping: 100%|██████████| 249/249 [00:09<00:00, 24.98it/s]\n"
     ]
    }
   ],
   "execution_count": 58
  },
  {
   "metadata": {
    "ExecuteTime": {
     "end_time": "2025-07-07T21:19:10.895397Z",
     "start_time": "2025-07-07T21:19:10.891355Z"
    }
   },
   "cell_type": "code",
   "source": [
    "df_groups = pd.DataFrame({'members': groups})\n",
    "print(df_groups.shape)\n",
    "df_groups.head()"
   ],
   "id": "159b5840cbe11640",
   "outputs": [
    {
     "name": "stdout",
     "output_type": "stream",
     "text": [
      "(249, 1)\n"
     ]
    },
    {
     "data": {
      "text/plain": [
       "                                members\n",
       "0                       [Snawk, Opal82]\n",
       "1               [David546, taragalinas]\n",
       "2  [Vadorojo, Travellingmatti, DanKill]\n",
       "3                 [HeavyAdge, Jawaswag]\n",
       "4                    [Qelha14, MarcusK]"
      ],
      "text/html": [
       "<div>\n",
       "<style scoped>\n",
       "    .dataframe tbody tr th:only-of-type {\n",
       "        vertical-align: middle;\n",
       "    }\n",
       "\n",
       "    .dataframe tbody tr th {\n",
       "        vertical-align: top;\n",
       "    }\n",
       "\n",
       "    .dataframe thead th {\n",
       "        text-align: right;\n",
       "    }\n",
       "</style>\n",
       "<table border=\"1\" class=\"dataframe\">\n",
       "  <thead>\n",
       "    <tr style=\"text-align: right;\">\n",
       "      <th></th>\n",
       "      <th>members</th>\n",
       "    </tr>\n",
       "  </thead>\n",
       "  <tbody>\n",
       "    <tr>\n",
       "      <th>0</th>\n",
       "      <td>[Snawk, Opal82]</td>\n",
       "    </tr>\n",
       "    <tr>\n",
       "      <th>1</th>\n",
       "      <td>[David546, taragalinas]</td>\n",
       "    </tr>\n",
       "    <tr>\n",
       "      <th>2</th>\n",
       "      <td>[Vadorojo, Travellingmatti, DanKill]</td>\n",
       "    </tr>\n",
       "    <tr>\n",
       "      <th>3</th>\n",
       "      <td>[HeavyAdge, Jawaswag]</td>\n",
       "    </tr>\n",
       "    <tr>\n",
       "      <th>4</th>\n",
       "      <td>[Qelha14, MarcusK]</td>\n",
       "    </tr>\n",
       "  </tbody>\n",
       "</table>\n",
       "</div>"
      ]
     },
     "execution_count": 60,
     "metadata": {},
     "output_type": "execute_result"
    }
   ],
   "execution_count": 60
  },
  {
   "metadata": {
    "ExecuteTime": {
     "end_time": "2025-07-07T21:19:20.915024Z",
     "start_time": "2025-07-07T21:19:20.910774Z"
    }
   },
   "cell_type": "code",
   "source": "df_users.isTest.value_counts()",
   "id": "60f223e74785b022",
   "outputs": [
    {
     "data": {
      "text/plain": [
       "isTest\n",
       "False    550982\n",
       "True      13049\n",
       "Name: count, dtype: int64"
      ]
     },
     "execution_count": 62,
     "metadata": {},
     "output_type": "execute_result"
    }
   ],
   "execution_count": 62
  },
  {
   "metadata": {},
   "cell_type": "markdown",
   "source": "# 3. Consistencia entre test y train",
   "id": "9e6bae1393f2ea3"
  },
  {
   "metadata": {
    "ExecuteTime": {
     "end_time": "2025-07-07T21:43:24.314634Z",
     "start_time": "2025-07-07T21:43:24.284896Z"
    }
   },
   "cell_type": "code",
   "source": [
    "train_users = set(df_users[df_users.isTest==False].Username.unique())\n",
    "test_users = set(df_users[df_users.isTest==True].Username.unique())"
   ],
   "id": "8f3996e36d417d73",
   "outputs": [],
   "execution_count": 13
  },
  {
   "metadata": {
    "ExecuteTime": {
     "end_time": "2025-07-07T21:43:25.805450Z",
     "start_time": "2025-07-07T21:43:25.803083Z"
    }
   },
   "cell_type": "code",
   "source": "test_users - train_users",
   "id": "50c682a8046a2d8f",
   "outputs": [
    {
     "data": {
      "text/plain": [
       "{'UsuarioMedio'}"
      ]
     },
     "execution_count": 14,
     "metadata": {},
     "output_type": "execute_result"
    }
   ],
   "execution_count": 14
  },
  {
   "metadata": {
    "ExecuteTime": {
     "end_time": "2025-07-07T21:43:13.490646Z",
     "start_time": "2025-07-07T21:43:13.475867Z"
    }
   },
   "cell_type": "code",
   "source": "df_users.loc[df_users.Username=='UsuarioMedio', 'isTest'] = False",
   "id": "cd709213fc7a02a7",
   "outputs": [],
   "execution_count": 9
  },
  {
   "metadata": {
    "ExecuteTime": {
     "end_time": "2025-07-07T21:46:25.961608Z",
     "start_time": "2025-07-07T21:46:25.958186Z"
    }
   },
   "cell_type": "code",
   "source": [
    "df_groups = df_groups[~df_groups['members'].apply(lambda x: 'UsuarioMedio' in x)]\n",
    "df_groups.head()"
   ],
   "id": "12ac45099dfc2070",
   "outputs": [
    {
     "data": {
      "text/plain": [
       "                                      members\n",
       "0                         ['Snawk', 'Opal82']\n",
       "1                 ['David546', 'taragalinas']\n",
       "2  ['Vadorojo', 'Travellingmatti', 'DanKill']\n",
       "3                   ['HeavyAdge', 'Jawaswag']\n",
       "4                      ['Qelha14', 'MarcusK']"
      ],
      "text/html": [
       "<div>\n",
       "<style scoped>\n",
       "    .dataframe tbody tr th:only-of-type {\n",
       "        vertical-align: middle;\n",
       "    }\n",
       "\n",
       "    .dataframe tbody tr th {\n",
       "        vertical-align: top;\n",
       "    }\n",
       "\n",
       "    .dataframe thead th {\n",
       "        text-align: right;\n",
       "    }\n",
       "</style>\n",
       "<table border=\"1\" class=\"dataframe\">\n",
       "  <thead>\n",
       "    <tr style=\"text-align: right;\">\n",
       "      <th></th>\n",
       "      <th>members</th>\n",
       "    </tr>\n",
       "  </thead>\n",
       "  <tbody>\n",
       "    <tr>\n",
       "      <th>0</th>\n",
       "      <td>['Snawk', 'Opal82']</td>\n",
       "    </tr>\n",
       "    <tr>\n",
       "      <th>1</th>\n",
       "      <td>['David546', 'taragalinas']</td>\n",
       "    </tr>\n",
       "    <tr>\n",
       "      <th>2</th>\n",
       "      <td>['Vadorojo', 'Travellingmatti', 'DanKill']</td>\n",
       "    </tr>\n",
       "    <tr>\n",
       "      <th>3</th>\n",
       "      <td>['HeavyAdge', 'Jawaswag']</td>\n",
       "    </tr>\n",
       "    <tr>\n",
       "      <th>4</th>\n",
       "      <td>['Qelha14', 'MarcusK']</td>\n",
       "    </tr>\n",
       "  </tbody>\n",
       "</table>\n",
       "</div>"
      ]
     },
     "execution_count": 18,
     "metadata": {},
     "output_type": "execute_result"
    }
   ],
   "execution_count": 18
  },
  {
   "metadata": {
    "ExecuteTime": {
     "end_time": "2025-07-07T21:46:32.783648Z",
     "start_time": "2025-07-07T21:46:32.778355Z"
    }
   },
   "cell_type": "code",
   "source": "df_groups.to_csv('../data/df_groups.csv', index=False)",
   "id": "100de678d749d4cd",
   "outputs": [],
   "execution_count": 19
  },
  {
   "metadata": {
    "ExecuteTime": {
     "end_time": "2025-07-07T21:46:34.719760Z",
     "start_time": "2025-07-07T21:46:34.390946Z"
    }
   },
   "cell_type": "code",
   "source": "df_users.to_csv('../data/df_users_train2.csv', index=False)",
   "id": "1c1a7a80a3389c7d",
   "outputs": [],
   "execution_count": 20
  },
  {
   "metadata": {},
   "cell_type": "code",
   "outputs": [],
   "execution_count": null,
   "source": "",
   "id": "8dc3ee255c600a5d"
  }
 ],
 "metadata": {
  "kernelspec": {
   "display_name": "Python 3",
   "language": "python",
   "name": "python3"
  },
  "language_info": {
   "codemirror_mode": {
    "name": "ipython",
    "version": 2
   },
   "file_extension": ".py",
   "mimetype": "text/x-python",
   "name": "python",
   "nbconvert_exporter": "python",
   "pygments_lexer": "ipython2",
   "version": "2.7.6"
  }
 },
 "nbformat": 4,
 "nbformat_minor": 5
}
