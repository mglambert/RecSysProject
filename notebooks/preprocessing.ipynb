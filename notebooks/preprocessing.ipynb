{
 "cells": [
  {
   "cell_type": "code",
   "id": "initial_id",
   "metadata": {
    "collapsed": true,
    "ExecuteTime": {
     "end_time": "2025-07-02T00:53:51.948296Z",
     "start_time": "2025-07-02T00:53:51.738409Z"
    }
   },
   "source": "import pandas as pd",
   "outputs": [],
   "execution_count": 1
  },
  {
   "metadata": {
    "ExecuteTime": {
     "end_time": "2025-07-02T00:53:55.409958Z",
     "start_time": "2025-07-02T00:53:52.563528Z"
    }
   },
   "cell_type": "code",
   "source": [
    "df_games = pd.read_csv('../data/games.csv')\n",
    "df_users = pd.read_csv('../data/user_ratings.csv')"
   ],
   "id": "af2c4b14cbb62070",
   "outputs": [],
   "execution_count": 2
  },
  {
   "metadata": {},
   "cell_type": "markdown",
   "source": "# 1. Filtrar juegos con MaxPlayers y MinPlayers menor a dos",
   "id": "30812eaf916e5d00"
  },
  {
   "metadata": {
    "ExecuteTime": {
     "end_time": "2025-07-02T00:53:57.994797Z",
     "start_time": "2025-07-02T00:53:57.986192Z"
    }
   },
   "cell_type": "code",
   "source": [
    "ans = df_games.shape[0]\n",
    "df_games = df_games[df_games.MaxPlayers >= 2]\n",
    "print(f'Diff {df_games.shape[0] - ans}')"
   ],
   "id": "629d7734c28d30be",
   "outputs": [
    {
     "name": "stdout",
     "output_type": "stream",
     "text": [
      "Diff -538\n"
     ]
    }
   ],
   "execution_count": 3
  },
  {
   "metadata": {
    "ExecuteTime": {
     "end_time": "2025-07-02T00:53:58.538552Z",
     "start_time": "2025-07-02T00:53:58.531075Z"
    }
   },
   "cell_type": "code",
   "source": [
    "ans = df_games.shape[0]\n",
    "df_games = df_games[df_games.MinPlayers >= 2]\n",
    "print(f'Diff {df_games.shape[0] - ans}')"
   ],
   "id": "24ee7d2e7d29549c",
   "outputs": [
    {
     "name": "stdout",
     "output_type": "stream",
     "text": [
      "Diff -3334\n"
     ]
    }
   ],
   "execution_count": 4
  },
  {
   "metadata": {},
   "cell_type": "markdown",
   "source": "# 2. Filtrar 100 juegos por ranking",
   "id": "fa148958205c9e00"
  },
  {
   "metadata": {
    "ExecuteTime": {
     "end_time": "2025-07-02T00:54:04.138806Z",
     "start_time": "2025-07-02T00:54:04.126953Z"
    }
   },
   "cell_type": "code",
   "source": [
    "ans = df_games.shape[0]\n",
    "df_games['mask'] = (df_games.loc[:,\n",
    "                    ['Rank:boardgame', 'Rank:strategygames', 'Rank:abstracts', 'Rank:familygames', 'Rank:thematic',\n",
    "                     'Rank:cgs',\n",
    "                     'Rank:wargames', 'Rank:partygames', 'Rank:childrensgames']] < 100).sum(axis=1) != 0\n",
    "df_games = df_games[df_games['mask']].copy()\n",
    "\n",
    "print(f'Diff {df_games.shape[0] - ans}')"
   ],
   "id": "189f95b42d7baebe",
   "outputs": [
    {
     "name": "stdout",
     "output_type": "stream",
     "text": [
      "Diff -17475\n"
     ]
    }
   ],
   "execution_count": 5
  },
  {
   "metadata": {
    "ExecuteTime": {
     "end_time": "2025-07-02T00:54:09.946523Z",
     "start_time": "2025-07-02T00:54:09.940462Z"
    }
   },
   "cell_type": "code",
   "source": "df_games.shape",
   "id": "93f2d27479b2792e",
   "outputs": [
    {
     "data": {
      "text/plain": [
       "(578, 49)"
      ]
     },
     "execution_count": 6,
     "metadata": {},
     "output_type": "execute_result"
    }
   ],
   "execution_count": 6
  },
  {
   "metadata": {
    "ExecuteTime": {
     "end_time": "2025-07-02T00:54:10.478574Z",
     "start_time": "2025-07-02T00:54:10.474461Z"
    }
   },
   "cell_type": "code",
   "source": "df_users.shape",
   "id": "ce4c695708a5e86e",
   "outputs": [
    {
     "data": {
      "text/plain": [
       "(18942215, 3)"
      ]
     },
     "execution_count": 7,
     "metadata": {},
     "output_type": "execute_result"
    }
   ],
   "execution_count": 7
  },
  {
   "metadata": {
    "ExecuteTime": {
     "end_time": "2025-07-02T00:54:11.639507Z",
     "start_time": "2025-07-02T00:54:11.393660Z"
    }
   },
   "cell_type": "code",
   "source": "df_users = df_users[df_users.BGGId.isin(df_games.BGGId)].copy()",
   "id": "6fd31baf96151ee9",
   "outputs": [],
   "execution_count": 8
  },
  {
   "metadata": {
    "ExecuteTime": {
     "end_time": "2025-07-02T00:54:12.770912Z",
     "start_time": "2025-07-02T00:54:12.766713Z"
    }
   },
   "cell_type": "code",
   "source": "df_users.shape",
   "id": "6053d61803af28c6",
   "outputs": [
    {
     "data": {
      "text/plain": [
       "(5286623, 3)"
      ]
     },
     "execution_count": 9,
     "metadata": {},
     "output_type": "execute_result"
    }
   ],
   "execution_count": 9
  },
  {
   "metadata": {
    "ExecuteTime": {
     "end_time": "2025-07-02T00:54:13.995447Z",
     "start_time": "2025-07-02T00:54:13.381065Z"
    }
   },
   "cell_type": "code",
   "source": "df_users.Username.value_counts()",
   "id": "9a1598aea0ccb9f",
   "outputs": [
    {
     "data": {
      "text/plain": [
       "Username\n",
       "leffe dubbel      504\n",
       "oldgoat3769967    426\n",
       "TomVasel          413\n",
       "Tolkana           404\n",
       "Doel              402\n",
       "                 ... \n",
       "Roald               1\n",
       "randycread          1\n",
       "cynycgirl           1\n",
       "ScottandKellie      1\n",
       "jobirnbaum          1\n",
       "Name: count, Length: 309968, dtype: int64"
      ]
     },
     "execution_count": 10,
     "metadata": {},
     "output_type": "execute_result"
    }
   ],
   "execution_count": 10
  },
  {
   "metadata": {},
   "cell_type": "markdown",
   "source": "# 3. Filtrar usuarios con menos de 20 reseñas",
   "id": "efa24383c8686188"
  },
  {
   "metadata": {
    "ExecuteTime": {
     "end_time": "2025-07-02T00:54:35.276134Z",
     "start_time": "2025-07-02T00:54:34.340912Z"
    }
   },
   "cell_type": "code",
   "source": [
    "ans = df_users.shape[0]\n",
    "usert_count = df_users.Username.value_counts()\n",
    "usert_count = usert_count[usert_count > 20]\n",
    "df_users = df_users[df_users.Username.isin(usert_count.index)].copy()\n",
    "print(f'Diff {df_users.shape[0] - ans}, {df_users.shape[0]}, {ans}')"
   ],
   "id": "9aa704db4a02093f",
   "outputs": [
    {
     "name": "stdout",
     "output_type": "stream",
     "text": [
      "Diff -1453027, 3833596, 5286623\n"
     ]
    }
   ],
   "execution_count": 11
  },
  {
   "metadata": {
    "ExecuteTime": {
     "end_time": "2025-07-02T00:54:42.692726Z",
     "start_time": "2025-07-02T00:54:42.388283Z"
    }
   },
   "cell_type": "code",
   "source": "df_users.Username.value_counts().min()",
   "id": "19579e20c0ff9646",
   "outputs": [
    {
     "data": {
      "text/plain": [
       "21"
      ]
     },
     "execution_count": 12,
     "metadata": {},
     "output_type": "execute_result"
    }
   ],
   "execution_count": 12
  },
  {
   "metadata": {
    "ExecuteTime": {
     "end_time": "2025-07-02T00:54:55.352196Z",
     "start_time": "2025-07-02T00:54:55.341657Z"
    }
   },
   "cell_type": "code",
   "source": [
    "unique_games = df_users.BGGId.unique()\n",
    "ans = df_games.shape[0]\n",
    "df_games = df_games[df_games.BGGId.isin(unique_games)]\n",
    "print(f'Diff {df_games.shape[0] - ans}, {df_games.shape[0]}, {ans}')\n"
   ],
   "id": "de2ea0f24481df62",
   "outputs": [
    {
     "name": "stdout",
     "output_type": "stream",
     "text": [
      "Diff 0, 578, 578\n"
     ]
    }
   ],
   "execution_count": 14
  },
  {
   "metadata": {},
   "cell_type": "markdown",
   "source": "# 4. Separar entrenamiento y test",
   "id": "6c71d8287767b2a7"
  },
  {
   "metadata": {
    "ExecuteTime": {
     "end_time": "2025-07-02T00:55:03.705788Z",
     "start_time": "2025-07-02T00:55:02.459788Z"
    }
   },
   "cell_type": "code",
   "source": [
    "df_users.reset_index(inplace=True, drop=True)\n",
    "\n",
    "df_users['isTest'] = False\n",
    "idxs = df_users.groupby('Username').sample(n=10).index\n",
    "df_users.loc[idxs, 'isTest'] = True\n",
    "\n",
    "print(df_users.isTest.sum())"
   ],
   "id": "6fdcd27122060f37",
   "outputs": [
    {
     "name": "stdout",
     "output_type": "stream",
     "text": [
      "778670\n"
     ]
    }
   ],
   "execution_count": 15
  },
  {
   "metadata": {},
   "cell_type": "markdown",
   "source": "# 5. Save",
   "id": "756c1edfc0930977"
  },
  {
   "metadata": {
    "ExecuteTime": {
     "end_time": "2025-07-02T00:55:08.218870Z",
     "start_time": "2025-07-02T00:55:06.062655Z"
    }
   },
   "cell_type": "code",
   "source": [
    "df_games.to_csv('../data/df_games_train.csv', index=False)\n",
    "df_users.to_csv('../data/df_users_train.csv', index=False)"
   ],
   "id": "fe1a9864cf1bec48",
   "outputs": [],
   "execution_count": 16
  },
  {
   "metadata": {},
   "cell_type": "code",
   "source": "",
   "id": "77485ba48d0aa8ee",
   "outputs": [],
   "execution_count": null
  }
 ],
 "metadata": {
  "kernelspec": {
   "display_name": "Python 3",
   "language": "python",
   "name": "python3"
  },
  "language_info": {
   "codemirror_mode": {
    "name": "ipython",
    "version": 2
   },
   "file_extension": ".py",
   "mimetype": "text/x-python",
   "name": "python",
   "nbconvert_exporter": "python",
   "pygments_lexer": "ipython2",
   "version": "2.7.6"
  }
 },
 "nbformat": 4,
 "nbformat_minor": 5
}
