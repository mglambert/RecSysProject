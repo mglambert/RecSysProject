{
 "cells": [
  {
   "cell_type": "code",
   "id": "initial_id",
   "metadata": {
    "collapsed": true,
    "ExecuteTime": {
     "end_time": "2025-07-01T02:01:01.418547Z",
     "start_time": "2025-07-01T02:01:01.063581Z"
    }
   },
   "source": [
    "import numpy as np\n",
    "import pandas as pd\n",
    "import matplotlib.pyplot as plt"
   ],
   "outputs": [],
   "execution_count": 1
  },
  {
   "metadata": {
    "ExecuteTime": {
     "end_time": "2025-07-01T02:01:04.109475Z",
     "start_time": "2025-07-01T02:01:01.423070Z"
    }
   },
   "cell_type": "code",
   "source": [
    "df_games = pd.read_csv('../data/games.csv')\n",
    "df_users = pd.read_csv('../data/user_ratings.csv')"
   ],
   "id": "af2c4b14cbb62070",
   "outputs": [],
   "execution_count": 2
  },
  {
   "metadata": {},
   "cell_type": "markdown",
   "source": "# 1. Fitrar todos los juegos sin rating",
   "id": "480372c6a0d3e32c"
  },
  {
   "metadata": {
    "ExecuteTime": {
     "end_time": "2025-07-01T02:01:04.193938Z",
     "start_time": "2025-07-01T02:01:04.190048Z"
    }
   },
   "cell_type": "code",
   "source": [
    "df_games['mask'] = (df_games.loc[:,\n",
    "                    ['Rank:boardgame', 'Rank:strategygames', 'Rank:abstracts', 'Rank:familygames', 'Rank:thematic',\n",
    "                     'Rank:cgs',\n",
    "                     'Rank:wargames', 'Rank:partygames', 'Rank:childrensgames']] != 21926).sum(axis=1) != 0"
   ],
   "id": "35e1f8780c97a7eb",
   "outputs": [],
   "execution_count": 3
  },
  {
   "metadata": {
    "ExecuteTime": {
     "end_time": "2025-07-01T02:01:04.206553Z",
     "start_time": "2025-07-01T02:01:04.199691Z"
    }
   },
   "cell_type": "code",
   "source": "df_games = df_games[df_games['mask']].copy()",
   "id": "471eaae1d0a437ef",
   "outputs": [],
   "execution_count": 4
  },
  {
   "metadata": {
    "ExecuteTime": {
     "end_time": "2025-07-01T02:01:04.215451Z",
     "start_time": "2025-07-01T02:01:04.212950Z"
    }
   },
   "cell_type": "code",
   "source": "df_users.shape",
   "id": "5f36207eae03e306",
   "outputs": [
    {
     "data": {
      "text/plain": [
       "(18942215, 3)"
      ]
     },
     "execution_count": 5,
     "metadata": {},
     "output_type": "execute_result"
    }
   ],
   "execution_count": 5
  },
  {
   "metadata": {
    "ExecuteTime": {
     "end_time": "2025-07-01T02:01:04.546366Z",
     "start_time": "2025-07-01T02:01:04.233991Z"
    }
   },
   "cell_type": "code",
   "source": "df_users = df_users[df_users.BGGId.isin(df_games.BGGId)].copy()",
   "id": "453667c7e4d3f105",
   "outputs": [],
   "execution_count": 6
  },
  {
   "metadata": {},
   "cell_type": "markdown",
   "source": "# 2. Filtrar usuarios con una sola reseña",
   "id": "efa24383c8686188"
  },
  {
   "metadata": {
    "ExecuteTime": {
     "end_time": "2025-07-01T02:01:07.669176Z",
     "start_time": "2025-07-01T02:01:06.037060Z"
    }
   },
   "cell_type": "code",
   "source": [
    "usert_count = df_users.Username.value_counts()\n",
    "usert_count = usert_count[usert_count > 1].copy()"
   ],
   "id": "9aa704db4a02093f",
   "outputs": [],
   "execution_count": 7
  },
  {
   "metadata": {},
   "cell_type": "markdown",
   "source": "# 3. Filtrar juegos con MaxPlayers y MinPlayers menor a dos",
   "id": "30812eaf916e5d00"
  },
  {
   "metadata": {
    "ExecuteTime": {
     "end_time": "2025-07-01T02:01:07.950801Z",
     "start_time": "2025-07-01T02:01:07.942013Z"
    }
   },
   "cell_type": "code",
   "source": [
    "ans = df_games.shape[0]\n",
    "df_games = df_games[df_games.MaxPlayers >= 2]\n",
    "print(f'Diff {df_games.shape[0] - ans}')"
   ],
   "id": "629d7734c28d30be",
   "outputs": [
    {
     "name": "stdout",
     "output_type": "stream",
     "text": [
      "Diff -527\n"
     ]
    }
   ],
   "execution_count": 8
  },
  {
   "metadata": {
    "ExecuteTime": {
     "end_time": "2025-07-01T02:01:10.311208Z",
     "start_time": "2025-07-01T02:01:10.304187Z"
    }
   },
   "cell_type": "code",
   "source": [
    "ans = df_games.shape[0]\n",
    "df_games = df_games[df_games.MinPlayers >= 2]\n",
    "print(f'Diff {df_games.shape[0] - ans}')"
   ],
   "id": "24ee7d2e7d29549c",
   "outputs": [
    {
     "name": "stdout",
     "output_type": "stream",
     "text": [
      "Diff -3222\n"
     ]
    }
   ],
   "execution_count": 9
  },
  {
   "metadata": {},
   "cell_type": "markdown",
   "source": "# 4. Filtrar 100 juegos por ranking",
   "id": "fa148958205c9e00"
  },
  {
   "metadata": {
    "ExecuteTime": {
     "end_time": "2025-07-01T02:21:16.697074Z",
     "start_time": "2025-07-01T02:21:16.690340Z"
    }
   },
   "cell_type": "code",
   "source": [
    "ans = df_games.shape[0]\n",
    "df_games['mask'] = (df_games.loc[:,\n",
    "                    ['Rank:boardgame', 'Rank:strategygames', 'Rank:abstracts', 'Rank:familygames', 'Rank:thematic',\n",
    "                     'Rank:cgs',\n",
    "                     'Rank:wargames', 'Rank:partygames', 'Rank:childrensgames']] < 100).sum(axis=1) != 0\n",
    "df_games = df_games[df_games['mask']].copy()\n",
    "print(f'Diff {df_games.shape[0] - ans}')"
   ],
   "id": "189f95b42d7baebe",
   "outputs": [
    {
     "name": "stdout",
     "output_type": "stream",
     "text": [
      "Diff -1191\n"
     ]
    }
   ],
   "execution_count": 28
  },
  {
   "metadata": {
    "ExecuteTime": {
     "end_time": "2025-07-01T02:21:17.235288Z",
     "start_time": "2025-07-01T02:21:17.231800Z"
    }
   },
   "cell_type": "code",
   "source": "df_games.shape",
   "id": "93f2d27479b2792e",
   "outputs": [
    {
     "data": {
      "text/plain": [
       "(578, 49)"
      ]
     },
     "execution_count": 29,
     "metadata": {},
     "output_type": "execute_result"
    }
   ],
   "execution_count": 29
  },
  {
   "metadata": {
    "ExecuteTime": {
     "end_time": "2025-07-01T02:21:17.573995Z",
     "start_time": "2025-07-01T02:21:17.571255Z"
    }
   },
   "cell_type": "code",
   "source": "df_users.shape",
   "id": "ce4c695708a5e86e",
   "outputs": [
    {
     "data": {
      "text/plain": [
       "(8843729, 3)"
      ]
     },
     "execution_count": 30,
     "metadata": {},
     "output_type": "execute_result"
    }
   ],
   "execution_count": 30
  },
  {
   "metadata": {
    "ExecuteTime": {
     "end_time": "2025-07-01T02:21:18.309629Z",
     "start_time": "2025-07-01T02:21:18.131185Z"
    }
   },
   "cell_type": "code",
   "source": "df_users = df_users[df_users.BGGId.isin(df_games.BGGId)].copy()",
   "id": "6fd31baf96151ee9",
   "outputs": [],
   "execution_count": 31
  },
  {
   "metadata": {
    "ExecuteTime": {
     "end_time": "2025-07-01T02:21:18.819004Z",
     "start_time": "2025-07-01T02:21:18.815577Z"
    }
   },
   "cell_type": "code",
   "source": "df_users.shape",
   "id": "6053d61803af28c6",
   "outputs": [
    {
     "data": {
      "text/plain": [
       "(5286623, 3)"
      ]
     },
     "execution_count": 32,
     "metadata": {},
     "output_type": "execute_result"
    }
   ],
   "execution_count": 32
  },
  {
   "metadata": {},
   "cell_type": "markdown",
   "source": "# 5. Save",
   "id": "756c1edfc0930977"
  },
  {
   "metadata": {
    "ExecuteTime": {
     "end_time": "2025-07-01T02:22:11.760624Z",
     "start_time": "2025-07-01T02:22:09.053993Z"
    }
   },
   "cell_type": "code",
   "source": [
    "df_games.to_csv('../data/df_games_train.csv')\n",
    "df_users.to_csv('../data/df_users_train.csv')"
   ],
   "id": "fe1a9864cf1bec48",
   "outputs": [],
   "execution_count": 35
  },
  {
   "metadata": {},
   "cell_type": "code",
   "outputs": [],
   "execution_count": null,
   "source": "",
   "id": "9fbaa27262b69ea8"
  }
 ],
 "metadata": {
  "kernelspec": {
   "display_name": "Python 3",
   "language": "python",
   "name": "python3"
  },
  "language_info": {
   "codemirror_mode": {
    "name": "ipython",
    "version": 2
   },
   "file_extension": ".py",
   "mimetype": "text/x-python",
   "name": "python",
   "nbconvert_exporter": "python",
   "pygments_lexer": "ipython2",
   "version": "2.7.6"
  }
 },
 "nbformat": 4,
 "nbformat_minor": 5
}
