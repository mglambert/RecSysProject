{
 "cells": [
  {
   "cell_type": "code",
   "id": "initial_id",
   "metadata": {
    "collapsed": true,
    "ExecuteTime": {
     "end_time": "2025-06-24T23:28:31.858258Z",
     "start_time": "2025-06-24T23:28:31.601833Z"
    }
   },
   "source": [
    "import numpy as np\n",
    "import pandas as pd\n",
    "import matplotlib.pyplot as plt"
   ],
   "outputs": [],
   "execution_count": 1
  },
  {
   "metadata": {
    "ExecuteTime": {
     "end_time": "2025-06-24T23:28:58.573113Z",
     "start_time": "2025-06-24T23:28:55.982032Z"
    }
   },
   "cell_type": "code",
   "source": [
    "df_user = pd.read_csv('../data/user_ratings.csv')\n",
    "df_user.head()"
   ],
   "id": "b29fcbf89f194605",
   "outputs": [
    {
     "data": {
      "text/plain": [
       "    BGGId  Rating     Username\n",
       "0  213788     8.0    Tonydorrf\n",
       "1  213788     8.0   tachyon14k\n",
       "2  213788     8.0     Ungotter\n",
       "3  213788     8.0  brainlocki3\n",
       "4  213788     8.0         PPMP"
      ],
      "text/html": [
       "<div>\n",
       "<style scoped>\n",
       "    .dataframe tbody tr th:only-of-type {\n",
       "        vertical-align: middle;\n",
       "    }\n",
       "\n",
       "    .dataframe tbody tr th {\n",
       "        vertical-align: top;\n",
       "    }\n",
       "\n",
       "    .dataframe thead th {\n",
       "        text-align: right;\n",
       "    }\n",
       "</style>\n",
       "<table border=\"1\" class=\"dataframe\">\n",
       "  <thead>\n",
       "    <tr style=\"text-align: right;\">\n",
       "      <th></th>\n",
       "      <th>BGGId</th>\n",
       "      <th>Rating</th>\n",
       "      <th>Username</th>\n",
       "    </tr>\n",
       "  </thead>\n",
       "  <tbody>\n",
       "    <tr>\n",
       "      <th>0</th>\n",
       "      <td>213788</td>\n",
       "      <td>8.0</td>\n",
       "      <td>Tonydorrf</td>\n",
       "    </tr>\n",
       "    <tr>\n",
       "      <th>1</th>\n",
       "      <td>213788</td>\n",
       "      <td>8.0</td>\n",
       "      <td>tachyon14k</td>\n",
       "    </tr>\n",
       "    <tr>\n",
       "      <th>2</th>\n",
       "      <td>213788</td>\n",
       "      <td>8.0</td>\n",
       "      <td>Ungotter</td>\n",
       "    </tr>\n",
       "    <tr>\n",
       "      <th>3</th>\n",
       "      <td>213788</td>\n",
       "      <td>8.0</td>\n",
       "      <td>brainlocki3</td>\n",
       "    </tr>\n",
       "    <tr>\n",
       "      <th>4</th>\n",
       "      <td>213788</td>\n",
       "      <td>8.0</td>\n",
       "      <td>PPMP</td>\n",
       "    </tr>\n",
       "  </tbody>\n",
       "</table>\n",
       "</div>"
      ]
     },
     "execution_count": 3,
     "metadata": {},
     "output_type": "execute_result"
    }
   ],
   "execution_count": 3
  },
  {
   "metadata": {
    "ExecuteTime": {
     "end_time": "2025-06-24T23:55:16.497687Z",
     "start_time": "2025-06-24T23:55:16.111882Z"
    }
   },
   "cell_type": "code",
   "source": "df_user.Rating.plot.hist(bins=20)",
   "id": "c2adbf609e67cbc6",
   "outputs": [
    {
     "data": {
      "text/plain": [
       "<Axes: ylabel='Frequency'>"
      ]
     },
     "execution_count": 8,
     "metadata": {},
     "output_type": "execute_result"
    },
    {
     "data": {
      "text/plain": [
       "<Figure size 640x480 with 1 Axes>"
      ],
      "image/png": "[encoded data removed]"
     },
     "metadata": {},
     "output_type": "display_data"
    }
   ],
   "execution_count": 8
  },
  {
   "metadata": {
    "ExecuteTime": {
     "end_time": "2025-06-24T23:54:48.943218Z",
     "start_time": "2025-06-24T23:54:48.867116Z"
    }
   },
   "cell_type": "code",
   "source": "df_user.Rating.value_counts()",
   "id": "cec4f16ef3dad990",
   "outputs": [
    {
     "data": {
      "text/plain": [
       "Rating\n",
       "7.00000    4304908\n",
       "8.00000    3689065\n",
       "6.00000    2769370\n",
       "9.00000    1772299\n",
       "5.00000    1241157\n",
       "            ...   \n",
       "7.50544          1\n",
       "7.90160          1\n",
       "2.50200          1\n",
       "8.68600          1\n",
       "1.71687          1\n",
       "Name: count, Length: 10647, dtype: int64"
      ]
     },
     "execution_count": 7,
     "metadata": {},
     "output_type": "execute_result"
    }
   ],
   "execution_count": 7
  },
  {
   "metadata": {
    "ExecuteTime": {
     "end_time": "2025-06-25T00:45:50.218595Z",
     "start_time": "2025-06-25T00:45:48.420195Z"
    }
   },
   "cell_type": "code",
   "source": "df_user.Username.value_counts().plot.hist(bins=200)",
   "id": "1e95720a4fc1cf00",
   "outputs": [
    {
     "data": {
      "text/plain": [
       "<Axes: ylabel='Frequency'>"
      ]
     },
     "execution_count": 24,
     "metadata": {},
     "output_type": "execute_result"
    },
    {
     "data": {
      "text/plain": [
       "<Figure size 640x480 with 1 Axes>"
      ],
      "image/png": "[encoded data removed]"
     },
     "metadata": {},
     "output_type": "display_data"
    }
   ],
   "execution_count": 24
  },
  {
   "metadata": {
    "ExecuteTime": {
     "end_time": "2025-06-25T00:26:04.710300Z",
     "start_time": "2025-06-25T00:26:02.850091Z"
    }
   },
   "cell_type": "code",
   "source": "df_user.Username.str.strip().unique().size",
   "id": "8fd356d76f0a9270",
   "outputs": [
    {
     "data": {
      "text/plain": [
       "411375"
      ]
     },
     "execution_count": 11,
     "metadata": {},
     "output_type": "execute_result"
    }
   ],
   "execution_count": 11
  },
  {
   "metadata": {
    "ExecuteTime": {
     "end_time": "2025-06-25T00:26:18.166269Z",
     "start_time": "2025-06-25T00:26:17.214894Z"
    }
   },
   "cell_type": "code",
   "source": "df_user.Username.unique().size",
   "id": "d16e3512172261f2",
   "outputs": [
    {
     "data": {
      "text/plain": [
       "411375"
      ]
     },
     "execution_count": 12,
     "metadata": {},
     "output_type": "execute_result"
    }
   ],
   "execution_count": 12
  },
  {
   "metadata": {
    "ExecuteTime": {
     "end_time": "2025-06-25T00:42:01.186553Z",
     "start_time": "2025-06-25T00:42:01.183142Z"
    }
   },
   "cell_type": "code",
   "source": "8 * 411375 * 21925 / 1024 / 1024 / 1024",
   "id": "55b0a12100ae0340",
   "outputs": [
    {
     "data": {
      "text/plain": [
       "67.19974335283041"
      ]
     },
     "execution_count": 20,
     "metadata": {},
     "output_type": "execute_result"
    }
   ],
   "execution_count": 20
  }
 ],
 "metadata": {
  "kernelspec": {
   "display_name": "Python 3",
   "language": "python",
   "name": "python3"
  },
  "language_info": {
   "codemirror_mode": {
    "name": "ipython",
    "version": 2
   },
   "file_extension": ".py",
   "mimetype": "text/x-python",
   "name": "python",
   "nbconvert_exporter": "python",
   "pygments_lexer": "ipython2",
   "version": "2.7.6"
  }
 },
 "nbformat": 4,
 "nbformat_minor": 5
}
